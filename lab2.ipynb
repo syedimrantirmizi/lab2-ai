{
 "cells": [
  {
   "cell_type": "code",
   "execution_count": 58,
   "metadata": {},
   "outputs": [
    {
     "name": "stdout",
     "output_type": "stream",
     "text": [
      "['Sheet1']\n"
     ]
    }
   ],
   "source": [
    "import pandas as pd\n",
    "\n",
    "excel = pd.ExcelFile(\"./Pakistani_Dataset.xlsx\")\n",
    "print(excel.sheet_names)"
   ]
  },
  {
   "cell_type": "code",
   "execution_count": 57,
   "metadata": {},
   "outputs": [
    {
     "name": "stdout",
     "output_type": "stream",
     "text": [
      "   ID   Name  Age       City  Score\n",
      "0   1  Ahmed   24    Karachi     88\n",
      "1   2   Sara   29     Lahore     91\n",
      "2   3  Bilal   23  Islamabad     79\n",
      "3   4   Zara   27     Quetta     84\n",
      "4   5    Ali   31   Peshawar     90\n"
     ]
    }
   ],
   "source": [
    "import pandas as pd\n",
    "\n",
    "dataFrame = pd.read_excel(\"./Pakistani_Dataset.xlsx\")\n",
    "print(dataFrame)"
   ]
  },
  {
   "cell_type": "code",
   "execution_count": null,
   "metadata": {},
   "outputs": [
    {
     "name": "stdout",
     "output_type": "stream",
     "text": [
      "   ID  Age\n",
      "0   1   24\n",
      "1   2   29\n",
      "2   3   23\n",
      "3   4   27\n",
      "4   5   31\n"
     ]
    }
   ],
   "source": [
    "import pandas as pd\n",
    "\n",
    "dataFrame = pd.read_excel(\"./Pakistani_Dataset.xlsx\", usecols=[0,2])\n",
    "print(dataFrame)"
   ]
  },
  {
   "cell_type": "code",
   "execution_count": null,
   "metadata": {},
   "outputs": [
    {
     "name": "stdout",
     "output_type": "stream",
     "text": [
      "   Age       City  Score\n",
      "0   24    Karachi     88\n",
      "1   29     Lahore     91\n",
      "2   23  Islamabad     79\n",
      "3   27     Quetta     84\n",
      "4   31   Peshawar     90\n"
     ]
    }
   ],
   "source": [
    "import pandas as pd\n",
    "\n",
    "dataFrame = pd.read_excel(\"./Pakistani_Dataset.xlsx\", usecols=[2,3,4])\n",
    "print(dataFrame)"
   ]
  },
  {
   "cell_type": "code",
   "execution_count": 43,
   "metadata": {},
   "outputs": [
    {
     "name": "stdout",
     "output_type": "stream",
     "text": [
      "    ID     Name  Age        City     Gender  Salary\n",
      "0    1    Ahmed   24     Karachi       Male   85000\n",
      "1    2     Sara   29      Lahore     Female  120000\n",
      "2    3    Bilal   23   Islamabad       Male   75000\n",
      "3    4     Zara   27      Quetta     Female   95000\n",
      "4    5      Ali   31    Peshawar       Male  110000\n",
      "5    6     Hina   33  Rawalpindi     Female  105000\n",
      "6    7    Fahad   28  Faisalabad  No Gender   63000\n",
      "7    8  Mehwish   30      Multan     Female  115000\n",
      "8    9   Hassan   34  Gujranwala       Male   72000\n",
      "9   10   Ayesha   25     Sialkot  No Gender   78000\n",
      "10  11   Kashif   22   Hyderabad       Male   89000\n",
      "11  12    Rabia   26    Sargodha     Female   93000\n",
      "12  13    Imran   32  Bahawalpur  No Gender   67000\n",
      "13  14     Amna   27      Sukkur     Female  104000\n",
      "14  15    Usman   29     Larkana       Male   96000\n"
     ]
    }
   ],
   "source": [
    "import pandas as pd\n",
    "\n",
    "csvRead = pd.read_csv(\"./New Text Document.csv\",nrows=15)\n",
    "print(csvRead.fillna(\"No Gender\"))\n"
   ]
  },
  {
   "cell_type": "code",
   "execution_count": 50,
   "metadata": {},
   "outputs": [
    {
     "name": "stdout",
     "output_type": "stream",
     "text": [
      "[[0.125      0.22222222]\n",
      " [0.75       1.        ]\n",
      " [0.         0.        ]\n",
      " [0.5        0.44444444]\n",
      " [1.         0.77777778]]\n"
     ]
    }
   ],
   "source": [
    "import pandas as pd\n",
    "\n",
    "import numpy as np\n",
    "from sklearn import preprocessing\n",
    "\n",
    "csvRead = pd.read_csv(\"./New Text Document.csv\",usecols=[\"Age\",\"Salary\"], nrows=5)\n",
    "minmax = preprocessing.MinMaxScaler(feature_range=(0,1))\n",
    "print(minmax.fit(csvRead).transform(csvRead))\n"
   ]
  },
  {
   "cell_type": "code",
   "execution_count": 54,
   "metadata": {},
   "outputs": [
    {
     "name": "stdout",
     "output_type": "stream",
     "text": [
      "[[-0.93541435 -0.73576721]\n",
      " [ 0.73496842  1.41022048]\n",
      " [-1.2694909  -1.34890655]\n",
      " [ 0.06681531 -0.12262787]\n",
      " [ 1.40312152  0.79708114]]\n"
     ]
    }
   ],
   "source": [
    "import pandas as pd\n",
    "\n",
    "import numpy as np\n",
    "from sklearn import preprocessing\n",
    "\n",
    "csvRead = pd.read_csv(\"./New Text Document.csv\",usecols=[\"Age\",\"Salary\"], nrows=5)\n",
    "standardize = preprocessing.StandardScaler()\n",
    "print(standardize.fit(csvRead).transform(csvRead))\n"
   ]
  },
  {
   "cell_type": "code",
   "execution_count": null,
   "metadata": {},
   "outputs": [
    {
     "name": "stdout",
     "output_type": "stream",
     "text": [
      "   First Score  Second Score  Third Score\n",
      "0        100.0          30.0         40.0\n",
      "1         90.0          45.0         40.0\n",
      "2         92.5          56.0         80.0\n",
      "3         95.0           NaN         98.0\n"
     ]
    }
   ],
   "source": [
    "import pandas as pd\n",
    "\n",
    "dict = {'First Score': [100, 90, np.nan, 95], \n",
    " \n",
    "        'Second Score': [30, 45, 56, np.nan], \n",
    " \n",
    "        'Third Score': [np.nan, 40, 80, 98]}\n",
    "df = pd.DataFrame(dict)\n",
    "print(df.interpolate(method=\"linear\",limit_direction=\"backward\"))"
   ]
  },
  {
   "cell_type": "code",
   "execution_count": 132,
   "metadata": {},
   "outputs": [
    {
     "name": "stdout",
     "output_type": "stream",
     "text": [
      "winner Moves\n",
      "white d4 d5 c4 c6 cxd5 e6 dxe6 fxe6 Nf3 Bb4+ Nc3 Ba5 Bf4\n",
      "black d4 Nc6 e4 e5 f4 f6 dxe5 fxe5 fxe5 Nxe5 Qd4 Nc6 Qe5+ Nxe5 c4 Bb4+\n",
      "white e4 e5 d3 d6 Be3 c6 Be2 b5 Nd2 a5 a4 c5 axb5 Nc6 bxc6 Ra6 Nc4 a4 c3 a3 Nxa3 Rxa3 Rxa3 c4 dxc4 d5 cxd5 Qxd5 exd5 Be6 Ra8+ Ke7 Bc5+ Kf6 Bxf8 Kg6 Bxg7 Kxg7 dxe6 Kh6 exf7 Nf6 Rxh8 Nh5 Bxh5 Kg5 Rxh7 Kf5 Qf3+ Ke6 Bg4+ Kd6 Rh6+ Kc5 Qe3+ Kb5 c4+ Kb4 Qc3+ Ka4 Bd1#\n",
      "white d4 d5 Nf3 Bf5 Nc3 Nf6 Bf4 Ng4 e3 Nc6 Be2 Qd7 O-O O-O-O Nb5 Nb4 Rc1 Nxa2 Ra1 Nb4 Nxa7+ Kb8 Nb5 Bxc2 Bxc7+ Kc8 Qd2 Qc6 Na7+ Kd7 Nxc6 bxc6 Bxd8 Kxd8 Qxb4 e5 Qb8+ Ke7 dxe5 Be4 Ra7+ Ke6 Qe8+ Kf5 Qxf7+ Nf6 Nh4+ Kg5 g3 Ng4 Qf4+ Kh5 Qxg4+ Kh6 Qf4+ g5 Qf6+ Bg6 Nxg6 Bg7 Qxg7#\n",
      "white e4 e5 Nf3 d6 d4 Nc6 d5 Nb4 a3 Na6 Nc3 Be7 b4 Nf6 Bg5 O-O b5 Nc5 Bxf6 Bxf6 Bd3 Qd7 O-O Nxd3 Qxd3 c6 a4 cxd5 Nxd5 Qe6 Nc7 Qg4 Nxa8 Bd7 Nc7 Rc8 Nd5 Qg6 Nxf6+ Qxf6 Rfd1 Re8 Qxd6 Bg4 Qxf6 gxf6 Rd3 Bxf3 Rxf3 Rd8 Rxf6 Kg7 Rf3 Rd2 Rg3+ Kf8 c3 Re2 f3 Rc2 Rg5 f6 Rh5 Kg7 Rd1 Kg6 Rh3 Rxc3 Rd7 Rc1+ Kf2 Rc2+ Kg3 h5 Rxb7 Kg5 Rxa7 h4+ Rxh4 Rxg2+ Kxg2 Kxh4 b6 Kg5 b7 f5 exf5 Kxf5 b8=Q e4 Rf7+ Kg5 Qg8+ Kh6 Rh7#\n",
      "draw e4 c5 Nf3 Qa5 a3\n",
      "white d4 d5 e4 dxe4 Nc3 Nf6 f3 exf3 Nxf3 Nc6 Bb5 a6 Bd3 Bg4 O-O Nxd4 Be2 Nxe2+ Qxe2 Bxf3 Qxf3 Qd4+ Be3 Qg4 Qxb7 Rd8 Qc6+ Nd7 Nd5 e6 Nxc7+ Ke7 Bd2\n",
      "black e4 Nc6 d4 e5 d5 Nce7 c3 Ng6 b4\n",
      "black e4 e5 Bc4 Nc6 Nf3 Nd4 d3 Nxf3+ Qxf3 Nf6 h3 Bc5 a3 O-O Be3 Bxe3 Qxe3 Re8 Qf3 c6 Nc3 b5 Bb3 Qa5 O-O Bb7 Ne2 c5 Rfd1 d6 c4 bxc4 dxc4 Rac8 Rd5 Bxd5 exd5 Qb6 Nc1 e4 Qf4 Nh5 Qg4 Nf6 Qf4 Qa5 Bc2 Qe1+ Kh2 Nh5 Qxd6 Qxf2 Bxe4 Rxe4 Nd3 Qg3+ Kg1 Qxd3 Rf1 Rce8 Qd7 Qe3+ Kh1 Ng3+ Kh2 Nxf1+\n",
      "white e4 d5 exd5 Qxd5 Nc3 Qe5+ Be2 Na6 d4 Qf5 Bxa6 bxa6 Nf3 Qe6+ Be3 Bb7 Ng5 Qc4 Qh5 Bxg2 Qxf7+ Qxf7 Nxf7 Kxf7 Rg1 Bf3 Rg3 Bh5 Rh3 g6 Ne4 Nf6 Nc5 e6 Nxa6 Rc8 Bf4 Bg4 Rg3 c6 Nb4 Bxb4+ c3 Ba5 b4 Bc7 Bxc7 Rxc7 Rb1 e5 dxe5 Re8 f4 Rd7 Kf2 Rd2+ Kg1 Rxa2 exf6 Kxf6 Rxg4 Kf5 Rg2 Rxg2+ Kxg2 Re2+ Kf3 Re4 Ra1 Rxf4+ Kg3 Rg4+ Kh3 h5 Rxa7 g5 Rf7+ Kg6 Rf3 Rf4 Rxf4 gxf4 Kg2 Kg5 c4 h4 b5 cxb5 cxb5 Kg4 b6 f3+ Kf2 Kf4 b7 h3 b8=Q+ Ke4 Qb4+ Kd5 Kxf3 Ke5 Kg3 Kf6 Qe4 Kg5 Qf3 Kh6 Qg4 Kh7 Qg5 Kh8 Kf4 Kh7 Kf5 Kh8 Kf6 Kh7 Qg7#\n"
     ]
    }
   ],
   "source": [
    "import pandas as pd\n",
    "\n",
    "chessCsv = pd.read_csv(\"./games.csv\", nrows=10, usecols=[\"moves\", \"winner\"])\n",
    "\n",
    "# Print each row in a more compact format\n",
    "print(\"winner\",\"Moves\")\n",
    "for index, row in chessCsv.iterrows():\n",
    "    print(row['winner'],row['moves'] )\n"
   ]
  },
  {
   "cell_type": "code",
   "execution_count": null,
   "metadata": {},
   "outputs": [],
   "source": []
  },
  {
   "cell_type": "code",
   "execution_count": null,
   "metadata": {},
   "outputs": [],
   "source": []
  },
  {
   "cell_type": "code",
   "execution_count": null,
   "metadata": {},
   "outputs": [],
   "source": []
  },
  {
   "cell_type": "code",
   "execution_count": null,
   "metadata": {},
   "outputs": [],
   "source": []
  },
  {
   "cell_type": "code",
   "execution_count": null,
   "metadata": {},
   "outputs": [],
   "source": []
  },
  {
   "cell_type": "code",
   "execution_count": null,
   "metadata": {},
   "outputs": [],
   "source": []
  },
  {
   "cell_type": "code",
   "execution_count": null,
   "metadata": {},
   "outputs": [],
   "source": []
  }
 ],
 "metadata": {
  "kernelspec": {
   "display_name": "Python 3",
   "language": "python",
   "name": "python3"
  },
  "language_info": {
   "codemirror_mode": {
    "name": "ipython",
    "version": 3
   },
   "file_extension": ".py",
   "mimetype": "text/x-python",
   "name": "python",
   "nbconvert_exporter": "python",
   "pygments_lexer": "ipython3",
   "version": "3.11.9"
  }
 },
 "nbformat": 4,
 "nbformat_minor": 2
}
